{
 "cells": [
  {
   "cell_type": "code",
   "execution_count": 1,
   "id": "68061363-638a-43ae-8f78-ac11ee9a9559",
   "metadata": {},
   "outputs": [],
   "source": [
    "## Insertion Sort"
   ]
  },
  {
   "cell_type": "code",
   "execution_count": 23,
   "id": "caad6499-0e53-488d-81e8-0b53172fbc73",
   "metadata": {},
   "outputs": [],
   "source": [
    "def InsertionSort(arr, n):\n",
    "    for i in range(1,n):\n",
    "        curr = arr[i]\n",
    "        j = i - 1\n",
    "        while j >= 0 and arr[j] > curr :\n",
    "            arr[j+1] = arr[j] #shifting element to right\n",
    "            j -= 1\n",
    "        arr[j+1] = curr\n",
    "    return arr"
   ]
  },
  {
   "cell_type": "code",
   "execution_count": 24,
   "id": "7096bdfc-8643-475f-a1a2-c3eab1e218fc",
   "metadata": {},
   "outputs": [
    {
     "name": "stdout",
     "output_type": "stream",
     "text": [
      "[1, 2, 4, 6, 9]\n"
     ]
    }
   ],
   "source": [
    "arr = [6,4,1,2,9]\n",
    "print(InsertionSort(arr,len(arr)))"
   ]
  },
  {
   "cell_type": "code",
   "execution_count": 25,
   "id": "41d0d1a2-0021-49b8-8dfd-92ee48d16ec2",
   "metadata": {},
   "outputs": [],
   "source": [
    "## Selection Sort"
   ]
  },
  {
   "cell_type": "code",
   "execution_count": 28,
   "id": "5294a52d-c4dc-44cf-b6bb-f0d11946a299",
   "metadata": {},
   "outputs": [],
   "source": [
    "def SelectionSort(arr,n):\n",
    "    for i in range(n):\n",
    "        min = i\n",
    "        for j in range(i+1,n):\n",
    "            if arr[j] < arr[min]:\n",
    "                min = j\n",
    "        arr[i], arr[min] = arr[min], arr[i]\n",
    "        print(arr)\n",
    "    return arr"
   ]
  },
  {
   "cell_type": "code",
   "execution_count": 29,
   "id": "2c1ffa42-39e6-494b-b739-b842c7038256",
   "metadata": {},
   "outputs": [
    {
     "name": "stdout",
     "output_type": "stream",
     "text": [
      "[1, 4, 6, 2, 9]\n",
      "[1, 2, 6, 4, 9]\n",
      "[1, 2, 4, 6, 9]\n",
      "[1, 2, 4, 6, 9]\n",
      "[1, 2, 4, 6, 9]\n",
      "[1, 2, 4, 6, 9]\n"
     ]
    }
   ],
   "source": [
    "arr = [6,4,1,2,9]\n",
    "print(SelectionSort(arr,len(arr)))"
   ]
  },
  {
   "cell_type": "code",
   "execution_count": 61,
   "id": "73998b38-1ca0-43e2-b4a9-f24ea379a876",
   "metadata": {},
   "outputs": [],
   "source": [
    "def BubbleSort(arr,n):\n",
    "    for i in range(0,n-1):\n",
    "        swap = False\n",
    "        for j in range(n-1,i,-1):\n",
    "            if arr[j] < arr[j -1]:\n",
    "                arr[j], arr[j-1] = arr[j-1], arr[j]\n",
    "                swap = True\n",
    "        # print(arr)\n",
    "        if not swap:\n",
    "            return arr\n",
    "    return arr"
   ]
  },
  {
   "cell_type": "code",
   "execution_count": 62,
   "id": "dc0b0a96-cf04-4c52-82e5-aea70c5a8964",
   "metadata": {},
   "outputs": [
    {
     "name": "stdout",
     "output_type": "stream",
     "text": [
      "[1, 2, 4, 6, 9]\n"
     ]
    }
   ],
   "source": [
    "arr = [6,4,1,2,9]\n",
    "print(BubbleSort(arr,len(arr)))"
   ]
  },
  {
   "cell_type": "code",
   "execution_count": 64,
   "id": "30e8a39c-b4b8-4592-a2d1-b5f129ac9436",
   "metadata": {},
   "outputs": [],
   "source": [
    "##Count Sort\n",
    "### have a freq array, generate sorted array from freq array"
   ]
  },
  {
   "cell_type": "code",
   "execution_count": 100,
   "id": "d2850a41-f228-470d-8a53-b9849035d845",
   "metadata": {},
   "outputs": [],
   "source": [
    "def merge(arr1, arr2):\n",
    "    n = len(arr1)\n",
    "    m = len(arr2)\n",
    "    p1 = 0\n",
    "    p2 = 0\n",
    "    ans = []\n",
    "    while p1 < n and p2 < m:\n",
    "        if arr1[p1] < arr2[p2]:\n",
    "            ans.append(arr1[p1])\n",
    "            p1 += 1\n",
    "        else:\n",
    "            ans.append(arr2[p2])\n",
    "            p2 += 1\n",
    "    while p1 < n:\n",
    "        ans.append(arr1[p1])\n",
    "        p1 += 1\n",
    "    while p2 < m:\n",
    "        ans.append(arr2[p2])\n",
    "        p2 += 1\n",
    "    return ans\n",
    "    "
   ]
  },
  {
   "cell_type": "code",
   "execution_count": 7,
   "id": "69cfdcf0-13a9-4f7a-973a-580c9225e11c",
   "metadata": {},
   "outputs": [],
   "source": [
    "def MergeSort(arr, L, R):\n",
    "    if((R-L) == 0): #base condition is when left inde\n",
    "        return arr[L:R+1]\n",
    "    mid = int((L+R)/2)\n",
    "    leftpart = MergeSort(arr,L,mid)\n",
    "    rightpart = MergeSort(arr,mid+1, R)\n",
    "    print(leftpart, rightpart)\n",
    "    return merge(leftpart, rightpart)"
   ]
  },
  {
   "cell_type": "code",
   "execution_count": 102,
   "id": "4f33c405-96fc-4394-a79a-3b2a37c9a689",
   "metadata": {},
   "outputs": [
    {
     "name": "stdout",
     "output_type": "stream",
     "text": [
      "[5] [4]\n",
      "[4, 5] [2]\n",
      "[3] [1]\n",
      "[1, 3] [6]\n",
      "[2, 4, 5] [1, 3, 6]\n",
      "[1, 2, 3, 4, 5, 6]\n"
     ]
    }
   ],
   "source": [
    "arr = [5,4,2,3,1,6]\n",
    "print(MergeSort(arr,0,len(arr)-1))"
   ]
  },
  {
   "cell_type": "code",
   "execution_count": null,
   "id": "c0c91b1b-e1bd-408e-a640-cbd8cdae0f78",
   "metadata": {},
   "outputs": [],
   "source": []
  },
  {
   "cell_type": "code",
   "execution_count": 1,
   "id": "903a0051-1bca-4054-9481-02660668d773",
   "metadata": {},
   "outputs": [],
   "source": [
    "## Count no.of inversions"
   ]
  },
  {
   "cell_type": "code",
   "execution_count": 42,
   "id": "0ec7e214-54b2-40f2-ba12-01ec762e1dd3",
   "metadata": {},
   "outputs": [],
   "source": [
    "def merge(arr1, arr2):\n",
    "    global inversions\n",
    "    n = len(arr1)\n",
    "    m = len(arr2)\n",
    "    p1 = 0\n",
    "    p2 = 0\n",
    "    ans = []\n",
    "    while p1 < n and p2 < m:\n",
    "        if arr1[p1] < arr2[p2]:\n",
    "            ans.append(arr1[p1])\n",
    "            p1 += 1\n",
    "        else:\n",
    "            inversions += len(arr1) - p1\n",
    "            ans.append(arr2[p2])\n",
    "            p2 += 1\n",
    "    while p1 < n:\n",
    "        ans.append(arr1[p1])\n",
    "        p1 += 1\n",
    "    while p2 < m:\n",
    "        ans.append(arr2[p2])\n",
    "        p2 += 1\n",
    "    return ans"
   ]
  },
  {
   "cell_type": "code",
   "execution_count": 51,
   "id": "a8ca0052-16e6-4454-8ae5-9ada8f7c85c0",
   "metadata": {},
   "outputs": [
    {
     "name": "stdout",
     "output_type": "stream",
     "text": [
      "[1, 2, 3, 4, 5]\n",
      "10\n"
     ]
    }
   ],
   "source": [
    "def merge(arr1, arr2):\n",
    "    global inversions\n",
    "    n = len(arr1)\n",
    "    m = len(arr2)\n",
    "    p1 = 0\n",
    "    p2 = 0\n",
    "    ans = []\n",
    "    while p1 < n and p2 < m:\n",
    "        if arr1[p1] < arr2[p2]:\n",
    "            ans.append(arr1[p1])\n",
    "            p1 += 1\n",
    "        else:\n",
    "            inversions += len(arr1) - p1\n",
    "            ans.append(arr2[p2])\n",
    "            p2 += 1\n",
    "    while p1 < n:\n",
    "        ans.append(arr1[p1])\n",
    "        p1 += 1\n",
    "    while p2 < m:\n",
    "        ans.append(arr2[p2])\n",
    "        p2 += 1\n",
    "    return ans\n",
    "def MergeSort(arr, L, R):\n",
    "    if((R-L) == 0): #base condition is when left inde\n",
    "        return arr[L:R+1]\n",
    "    mid = int((L+R)/2)\n",
    "    leftpart = MergeSort(arr,L,mid)\n",
    "    rightpart = MergeSort(arr,mid+1, R)\n",
    "    return merge(leftpart, rightpart)\n",
    "arr = [5,4,3,2,1]\n",
    "global ans\n",
    "inversions = 0\n",
    "print(MergeSort(arr,0,len(arr)-1))\n",
    "print(inversions)"
   ]
  },
  {
   "cell_type": "code",
   "execution_count": 48,
   "id": "7c33f8c1-76b9-47ab-87f9-9e38cbb56e93",
   "metadata": {},
   "outputs": [
    {
     "name": "stdout",
     "output_type": "stream",
     "text": [
      "[5] [4]\n",
      "[4, 5] [3]\n",
      "[2] [1]\n",
      "[3, 4, 5] [1, 2]\n",
      "[1, 2, 3, 4, 5]\n",
      "10\n"
     ]
    }
   ],
   "source": [
    "arr = [5,4,3,2,1]\n",
    "global ans\n",
    "inversions = 0\n",
    "print(MergeSort(arr,0,len(arr)-1))\n",
    "print(inversions)"
   ]
  },
  {
   "cell_type": "code",
   "execution_count": 49,
   "id": "56366dba-a404-4e6c-a27b-0754e3aaec9a",
   "metadata": {},
   "outputs": [
    {
     "name": "stdout",
     "output_type": "stream",
     "text": [
      "[6] [4]\n",
      "[4, 6] [1]\n",
      "[2] [9]\n",
      "[1, 4, 6] [2, 9]\n",
      "[1, 2, 4, 6, 9]\n",
      "5\n"
     ]
    }
   ],
   "source": [
    "arr = [6,4,1,2,9]\n",
    "global ans\n",
    "inversions = 0\n",
    "print(MergeSort(arr,0,len(arr)-1))\n",
    "print(inversions)"
   ]
  },
  {
   "cell_type": "code",
   "execution_count": 50,
   "id": "9163f7da-7126-4d82-80bc-1f649753d1e1",
   "metadata": {},
   "outputs": [
    {
     "name": "stdout",
     "output_type": "stream",
     "text": [
      "[4] [5]\n",
      "[4, 5] [1]\n",
      "[2] [7]\n",
      "[2, 7] [3]\n",
      "[1, 4, 5] [2, 3, 7]\n",
      "[1, 2, 3, 4, 5, 7]\n",
      "7\n"
     ]
    }
   ],
   "source": [
    "arr = [4,5,1,2,7,3]\n",
    "global ans\n",
    "inversions = 0\n",
    "print(MergeSort(arr,0,len(arr)-1))\n",
    "print(inversions)"
   ]
  },
  {
   "cell_type": "code",
   "execution_count": 85,
   "id": "aacfa253-2e4e-48db-bd30-63cc48ae647a",
   "metadata": {},
   "outputs": [],
   "source": [
    "class Solution:\n",
    "    # @param A : list of integers\n",
    "    # @return an integer\n",
    "    def solve(self, A):\n",
    "        return self.inv(A,0,len(A)-1)\n",
    "    def inv(self, A, L,R):\n",
    "        if L == R: return 0\n",
    "        ans = 0\n",
    "        mid = int((L+R)/2)\n",
    "        ans += self.inv(A,L,mid)\n",
    "        ans += self.inv(A,mid+1,R)\n",
    "        ans += self.merge(A,L,mid,R)\n",
    "        return ans\n",
    "    def merge(self,A,L,mid,R):\n",
    "        p1, p2 = L, mid + 1\n",
    "        ans = []\n",
    "        inversions = 0\n",
    "        while p1 <= mid and p2 <= R:\n",
    "            if(A[p1] > 2 * A[p2]):\n",
    "                inversions += mid - p1 + 1\n",
    "                p2 += 1\n",
    "            else:\n",
    "                p1 += 1\n",
    "        p1, p2 = L, mid + 1\n",
    "        while p1 <= mid and p2 <= R:\n",
    "            if(A[p1] < A[p2]):\n",
    "                ans.append(A[p1])\n",
    "                p1 += 1\n",
    "            else:\n",
    "                ans.append(A[p2])\n",
    "                p2 += 1\n",
    "        while p1 <= mid:\n",
    "            ans.append(A[p1])\n",
    "            p1 += 1\n",
    "        while p2 <= R:\n",
    "            ans.append(A[p2])\n",
    "            p2 += 1\n",
    "        j = 0\n",
    "        for i in range(L,R+1):\n",
    "            A[i] = ans[j]\n",
    "            j += 1\n",
    "        return inversions"
   ]
  },
  {
   "cell_type": "code",
   "execution_count": 84,
   "id": "f98406e6-daad-44c5-920e-b971edd52d6c",
   "metadata": {},
   "outputs": [
    {
     "data": {
      "text/plain": [
       "9"
      ]
     },
     "execution_count": 84,
     "metadata": {},
     "output_type": "execute_result"
    }
   ],
   "source": [
    "obj = Solution()\n",
    "A = [6,-5, -4,-3,-2,-1]\n",
    "obj.solve(A)"
   ]
  },
  {
   "cell_type": "code",
   "execution_count": 80,
   "id": "7cad9af4-bc59-45c9-97a3-e91d54a8c8d2",
   "metadata": {},
   "outputs": [
    {
     "name": "stdout",
     "output_type": "stream",
     "text": [
      "9\n"
     ]
    }
   ],
   "source": [
    "class Solution:\n",
    "    # @param A : list of integers\n",
    "    # @return an integer\n",
    "    def solve(self, A):\n",
    "        return self.merge_sort(A, 0, len(A)-1)\n",
    "\n",
    "    def merge_sort(self, A, L, R):\n",
    "        inversions = 0\n",
    "        if L < R:\n",
    "            mid = (L + R) // 2\n",
    "            inversions += self.merge_sort(A, L, mid)\n",
    "            inversions += self.merge_sort(A, mid+1, R)\n",
    "            inversions += self.merge(A, L, mid, R)\n",
    "        return inversions\n",
    "\n",
    "    def merge(self, A, L, mid, R):\n",
    "        temp = [0] * (R - L + 1)\n",
    "        i, j, k = L, mid + 1, 0\n",
    "        inversions = 0\n",
    "\n",
    "        while i <= mid and j <= R:\n",
    "            if A[i] > 2 * A[j]:\n",
    "                inversions += (mid - i + 1)\n",
    "                j += 1\n",
    "            else:\n",
    "                i += 1\n",
    "\n",
    "        i, j = L, mid + 1\n",
    "\n",
    "        while i <= mid and j <= R:\n",
    "            if A[i] <= A[j]:\n",
    "                temp[k] = A[i]\n",
    "                k += 1\n",
    "                i += 1\n",
    "            else:\n",
    "                temp[k] = A[j]\n",
    "                k += 1\n",
    "                j += 1\n",
    "\n",
    "        while i <= mid:\n",
    "            temp[k] = A[i]\n",
    "            k += 1\n",
    "            i += 1\n",
    "\n",
    "        while j <= R:\n",
    "            temp[k] = A[j]\n",
    "            k += 1\n",
    "            j += 1\n",
    "\n",
    "        for i in range(len(temp)):\n",
    "            A[L + i] = temp[i]\n",
    "\n",
    "        return inversions\n",
    "\n",
    "# Example usage:\n",
    "sol = Solution()\n",
    "A = [6,-5,-4,-3,-2,-1]\n",
    "result = sol.solve(A)\n",
    "print(result)\n"
   ]
  },
  {
   "cell_type": "code",
   "execution_count": 1,
   "id": "42167581-80c0-4e8a-a49c-99538c1e045d",
   "metadata": {},
   "outputs": [],
   "source": [
    "## Quick Sort"
   ]
  },
  {
   "cell_type": "code",
   "execution_count": 79,
   "id": "3bf27de6-4c66-4a7f-81ed-e232e2ba69b2",
   "metadata": {},
   "outputs": [],
   "source": [
    "def finalposition(arr,first,last):\n",
    "    ind = 0\n",
    "    pivot = arr[last]\n",
    "    for i in range(len(arr)): # find position in the original lenght of the arry\n",
    "        if(arr[i] < pivot):\n",
    "            ind += 1\n",
    "    arr[ind], arr[last] = arr[last], arr[ind] # swap pivot element to its correct position\n",
    "    p1, p2 = first, last\n",
    "    while p1 < ind and p2 > ind: # elements to the left of pivot should be smaller and to the right of pivot should be greater\n",
    "        while arr[p1] < pivot and p1 < ind: \n",
    "            p1 += 1\n",
    "        while arr[p2] >= pivot and p2 > ind:\n",
    "            p2 -= 1\n",
    "        arr[p1], arr[p2] = arr[p2], arr[p1]\n",
    "    return ind\n",
    "        "
   ]
  },
  {
   "cell_type": "code",
   "execution_count": 80,
   "id": "c0a0e264-f5bc-4d6c-a4e5-a2e11708b0c6",
   "metadata": {},
   "outputs": [],
   "source": [
    "def QuickSort(arr, first, last):\n",
    "    print(arr, first,last)\n",
    "    if(first >= last):\n",
    "        return\n",
    "    ind = finalposition(arr, first,last)\n",
    "    QuickSort(arr,first, ind - 1)\n",
    "    QuickSort(arr,ind + 1, last)\n",
    "    return"
   ]
  },
  {
   "cell_type": "code",
   "execution_count": 81,
   "id": "083fdfd0-9ef8-485c-804b-b37de53f9d86",
   "metadata": {},
   "outputs": [
    {
     "name": "stdout",
     "output_type": "stream",
     "text": [
      "[-1, -2, -3, -4, -5, -6] 0 5\n",
      "[-6, -2, -3, -4, -5, -1] 0 -1\n",
      "[-6, -2, -3, -4, -5, -1] 1 5\n",
      "[-6, -2, -3, -4, -5, -1] 1 4\n",
      "[-6, -5, -3, -4, -2, -1] 1 0\n",
      "[-6, -5, -3, -4, -2, -1] 2 4\n",
      "[-6, -5, -3, -4, -2, -1] 2 3\n",
      "[-6, -5, -4, -3, -2, -1] 2 1\n",
      "[-6, -5, -4, -3, -2, -1] 3 3\n",
      "[-6, -5, -4, -3, -2, -1] 5 4\n",
      "[-6, -5, -4, -3, -2, -1] 6 5\n"
     ]
    }
   ],
   "source": [
    "arr = [-1,-2,-3,-4,-5,-6]\n",
    "QuickSort(arr, 0, len(arr) - 1)"
   ]
  },
  {
   "cell_type": "code",
   "execution_count": null,
   "id": "442842af-f0aa-49aa-8da5-332f47d30724",
   "metadata": {},
   "outputs": [],
   "source": []
  }
 ],
 "metadata": {
  "kernelspec": {
   "display_name": "Python 3 (ipykernel)",
   "language": "python",
   "name": "python3"
  },
  "language_info": {
   "codemirror_mode": {
    "name": "ipython",
    "version": 3
   },
   "file_extension": ".py",
   "mimetype": "text/x-python",
   "name": "python",
   "nbconvert_exporter": "python",
   "pygments_lexer": "ipython3",
   "version": "3.11.5"
  }
 },
 "nbformat": 4,
 "nbformat_minor": 5
}
